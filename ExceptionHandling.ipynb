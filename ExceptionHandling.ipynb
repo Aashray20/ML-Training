{
 "cells": [
  {
   "cell_type": "code",
   "execution_count": 1,
   "id": "d818503e-62a6-4691-bece-57e44466cc77",
   "metadata": {},
   "outputs": [
    {
     "data": {
      "text/plain": [
       "4"
      ]
     },
     "execution_count": 1,
     "metadata": {},
     "output_type": "execute_result"
    }
   ],
   "source": [
    "L=[1,2,3,4,5]\n",
    "L[3]"
   ]
  },
  {
   "cell_type": "code",
   "execution_count": 5,
   "id": "5ebed78b-e822-4072-8218-195b5ec44d37",
   "metadata": {},
   "outputs": [
    {
     "name": "stdout",
     "output_type": "stream",
     "text": [
      "Hello World\n",
      "4\n",
      "Invalid index\n",
      "End of code\n"
     ]
    }
   ],
   "source": [
    "print(\"Hello World\")\n",
    "L\n",
    "print(L[3])\n",
    "try:\n",
    "    print(L[7])\n",
    "except:\n",
    "    print(\"Invalid index\")\n",
    "print(\"End of code\")"
   ]
  },
  {
   "cell_type": "code",
   "execution_count": 6,
   "id": "d84c340e-743e-43eb-90fd-39e9dfef26ff",
   "metadata": {},
   "outputs": [
    {
     "name": "stdout",
     "output_type": "stream",
     "text": [
      "B can't be zero\n",
      "Code executed Successfully\n"
     ]
    }
   ],
   "source": [
    "a=10\n",
    "b=0\n",
    "try:\n",
    "    print(a/b)\n",
    "except:\n",
    "    print(\"B can't be zero\")\n",
    "finally:\n",
    "    print(\"Code executed Successfully\")"
   ]
  },
  {
   "cell_type": "code",
   "execution_count": null,
   "id": "956c08b3-d7c1-4b75-a0c0-01c85570c287",
   "metadata": {},
   "outputs": [],
   "source": [
    "\n",
    "\n",
    "\n",
    "\n"
   ]
  }
 ],
 "metadata": {
  "kernelspec": {
   "display_name": "Python 3 (ipykernel)",
   "language": "python",
   "name": "python3"
  },
  "language_info": {
   "codemirror_mode": {
    "name": "ipython",
    "version": 3
   },
   "file_extension": ".py",
   "mimetype": "text/x-python",
   "name": "python",
   "nbconvert_exporter": "python",
   "pygments_lexer": "ipython3",
   "version": "3.12.1"
  }
 },
 "nbformat": 4,
 "nbformat_minor": 5
}
