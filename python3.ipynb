{
 "cells": [
  {
   "cell_type": "code",
   "execution_count": 1,
   "id": "50a16d92-4379-4aed-bfe2-9f78d3fdc5de",
   "metadata": {},
   "outputs": [],
   "source": [
    "import numpy as np"
   ]
  },
  {
   "cell_type": "raw",
   "id": "e7cf9aa5-196b-4860-9b6f-d952b48a9b3d",
   "metadata": {},
   "source": [
    "str=input(\"Enter your Expression:\")\n",
    "print (eval(str))\n"
   ]
  },
  {
   "cell_type": "code",
   "execution_count": 3,
   "id": "7613d454-51a5-49e1-bb49-ceb21c4b554c",
   "metadata": {},
   "outputs": [
    {
     "name": "stdin",
     "output_type": "stream",
     "text": [
      "Enter your string: 63*25\n"
     ]
    },
    {
     "name": "stdout",
     "output_type": "stream",
     "text": [
      "1575.0\n"
     ]
    }
   ],
   "source": [
    "#python program to take iput as string andvive output\n",
    "str=(input(\"Enter your string:\"))\n",
    "op=\"\"\n",
    "for i in str:\n",
    "    if i in \"+-*/\":#in this siingle value of string will be provided to i and we check operator of i from -*+/\n",
    "        op=i\n",
    "str=str.replace(op,\" \")\n",
    "l=[]\n",
    "for i in str.split(\" \"):\n",
    "  l.append(float(i))\n",
    "if op=='+':\n",
    "    print(float(l[0])+float(l[1]))\n",
    "elif op==\"-\":\n",
    "    print(float(l[0])-float(l[1]))\n",
    "elif op==\"*\":\n",
    "    print(float(l[0])*float(l[1]))\n",
    "elif op==\"/\":\n",
    "    print(float(l[0])/float(l[1]))\n",
    "else:\n",
    "    print(\"Invalid Opertor\")\n",
    "                \n",
    "                \n",
    "        \n",
    "        \n"
   ]
  },
  {
   "cell_type": "code",
   "execution_count": 13,
   "id": "93148308-3e4a-4080-8ad3-03e28c34c52b",
   "metadata": {},
   "outputs": [
    {
     "name": "stdin",
     "output_type": "stream",
     "text": [
      "Enter your Expression: 96+36.8\n"
     ]
    },
    {
     "name": "stdout",
     "output_type": "stream",
     "text": [
      "132.8\n"
     ]
    }
   ],
   "source": [
    "#using evel function to get answer\n",
    "str=input(\"Enter your Expression:\")\n",
    "print (eval(str))\n"
   ]
  },
  {
   "cell_type": "code",
   "execution_count": 4,
   "id": "4b963167-8a7c-4061-9f69-1fa50652972a",
   "metadata": {},
   "outputs": [
    {
     "name": "stdout",
     "output_type": "stream",
     "text": [
      "{'a': 2, 'b': 3, 'c': 1, 'd': 1}\n"
     ]
    }
   ],
   "source": [
    "dict={\"s1\":\"a\",\"s2\":\"b\",\"s3\":\"a\",\"s4\":\"b\",\"s5\":\"c\",\"s6\":\"b\",\"s7\":\"d\"}\n",
    "my_dict={}\n",
    "for i in dict.values():\n",
    "    if i in my_dict:\n",
    "        my_dict[i]+=1\n",
    "    else:\n",
    "        my_dict[i]=1\n",
    "print (my_dict)"
   ]
  },
  {
   "cell_type": "code",
   "execution_count": 5,
   "id": "98c361b9-a670-49c8-a8b2-49323d306e4a",
   "metadata": {},
   "outputs": [
    {
     "name": "stdout",
     "output_type": "stream",
     "text": [
      "7\n"
     ]
    }
   ],
   "source": [
    "#functiions\n",
    "def addnum(a,b):\n",
    " c=a+b\n",
    " return c\n",
    "result=addnum(2,5)\n",
    "print(result)"
   ]
  },
  {
   "cell_type": "markdown",
   "id": "601b1565-b84a-4ce6-9f7e-de3cff495756",
   "metadata": {},
   "source": [
    "# if _name_==\"_main_\":\n",
    "# this checks if the code is in main block  \n",
    "# actual paramaner:real wala jo main mai hai\n",
    "# formal parameter:jo function mai use hue\n",
    "# call by value: data uth ke function mai chsl gya and uska copy bhi jahan se call hua\n",
    "# call by refeerence: adress krta function mai , adress se jata"
   ]
  },
  {
   "cell_type": "code",
   "execution_count": 7,
   "id": "057cb7e0-2520-4b0a-804f-8c7b69b04841",
   "metadata": {},
   "outputs": [
    {
     "name": "stdin",
     "output_type": "stream",
     "text": [
      "Enter number 52\n"
     ]
    },
    {
     "name": "stdout",
     "output_type": "stream",
     "text": [
      "NOT PRIME\n"
     ]
    }
   ],
   "source": [
    "def prime(n):\n",
    "    count=0\n",
    "    num=n\n",
    "    for i in range(num,0,-1):\n",
    "        if n%i==0:\n",
    "            count+=1\n",
    "    if count==2:\n",
    "        print(\"PRIME\")\n",
    "    else:\n",
    "        print(\"NOT PRIME\") \n",
    "    return\n",
    "\n",
    "if __name__ == \"__main__\":\n",
    "    num=int(input(\"Enter number\"))\n",
    "prime(num)\n",
    "    \n",
    "    "
   ]
  },
  {
   "cell_type": "code",
   "execution_count": null,
   "id": "360febf0-05d4-4453-a429-25f132039001",
   "metadata": {},
   "outputs": [],
   "source": [
    "def prime(n):\n",
    "    if n <= 1:\n",
    "        print(\"NOT PRIME\")\n",
    "        return\n",
    "    count = 0\n",
    "    for i in range(1, n+1):\n",
    "        if n % i == 0:\n",
    "            count += 1\n",
    "    \n",
    "    if count == 2:  \n",
    "        print(\"PRIME\")\n",
    "    else:\n",
    "        print(\"NOT PRIME\")\n",
    "    return\n",
    "\n",
    "if __name__ == \"__main__\":\n",
    "    num = int(input(\"Enter number:\"))\n",
    "    prime(num)\n"
   ]
  },
  {
   "cell_type": "code",
   "execution_count": 3,
   "id": "359020e8-f66c-4e43-a114-9d4d9b23a447",
   "metadata": {},
   "outputs": [
    {
     "name": "stdin",
     "output_type": "stream",
     "text": [
      "Enter number: 22\n"
     ]
    },
    {
     "name": "stdout",
     "output_type": "stream",
     "text": [
      "NOT PRIME\n"
     ]
    }
   ],
   "source": [
    "def prime(n):\n",
    "    if n <= 1:\n",
    "        print(\"NOT PRIME\")\n",
    "        return\n",
    "    count = 0\n",
    "    for i in range(1, n+1):\n",
    "        if n % i == 0:\n",
    "            count += 1\n",
    "    \n",
    "    if count == 2:  \n",
    "        print(\"PRIME\")\n",
    "    else:\n",
    "        print(\"NOT PRIME\")\n",
    "    return\n",
    "\n",
    "if __name__ == \"__main__\":\n",
    "    num = int(input(\"Enter number:\"))\n",
    "    prime(num)\n",
    "\n"
   ]
  },
  {
   "cell_type": "code",
   "execution_count": 2,
   "id": "4c352df4-67cb-4dd7-b12c-c3224f72eee4",
   "metadata": {},
   "outputs": [
    {
     "name": "stdout",
     "output_type": "stream",
     "text": [
      "[0, 2, 4, 6, 8, 10, 12, 14, 16, 18, 20, 22, 24, 26, 28, 30, 32, 34, 36, 38, 40, 42, 44, 46, 48, 50, 52, 54, 56, 58, 60, 62, 64, 66, 68, 70, 72, 74, 76, 78, 80, 82, 84, 86, 88, 90, 92, 94, 96, 98]\n"
     ]
    }
   ],
   "source": [
    "l=[]\n",
    "for i in range(0,100,2):\n",
    "    l.append(i)\n",
    "print(l)"
   ]
  },
  {
   "cell_type": "code",
   "execution_count": 4,
   "id": "e2051ada-88c4-4bf2-bfc2-a22b9b6b510f",
   "metadata": {},
   "outputs": [
    {
     "name": "stdout",
     "output_type": "stream",
     "text": [
      "[0, 2, 4, 6, 8, 10, 12, 14, 16, 18, 20, 22, 24, 26, 28, 30, 32, 34, 36, 38, 40, 42, 44, 46, 48, 50, 52, 54, 56, 58, 60, 62, 64, 66, 68, 70, 72, 74, 76, 78, 80, 82, 84, 86, 88, 90, 92, 94, 96, 98]\n"
     ]
    }
   ],
   "source": [
    "#list comphrension\n",
    "l2=[i for i in range(0,100,2)]\n",
    "print(l2)"
   ]
  },
  {
   "cell_type": "code",
   "execution_count": null,
   "id": "b1b7b76d-ab7a-4901-9ee7-6ce5a885d2f5",
   "metadata": {},
   "outputs": [],
   "source": [
    "l=[]\n",
    "for i in range(0,10,1):\n",
    " n=int(input(\"Enter number:\"))\n",
    " l.append[n]\n",
    "print(l)"
   ]
  },
  {
   "cell_type": "code",
   "execution_count": 9,
   "id": "7b43263a-77a8-45fa-8e87-0eb436207fd4",
   "metadata": {},
   "outputs": [
    {
     "name": "stdin",
     "output_type": "stream",
     "text": [
      " 1 2 56 36 45\n"
     ]
    },
    {
     "name": "stdout",
     "output_type": "stream",
     "text": [
      "[1, 2, 56, 36, 45]\n"
     ]
    }
   ],
   "source": [
    "#list comphrension\n",
    "l=list(map(int,input().split()))\n",
    "print(l)"
   ]
  },
  {
   "cell_type": "code",
   "execution_count": 21,
   "id": "8ddeb8fe-f4f9-4c0b-9b8c-c92c75b9cab4",
   "metadata": {},
   "outputs": [
    {
     "name": "stdout",
     "output_type": "stream",
     "text": [
      "11\n",
      "22\n",
      "This is  fun1 from class A\n",
      "This is  fun1 from class B\n"
     ]
    }
   ],
   "source": [
    "#polymorphism\n",
    "class A:\n",
    "    def __init__(self):\n",
    "        self.a=10\n",
    "        self.b=20\n",
    "    def fun1(self):\n",
    "        print(\"This is  fun1 from class A\")\n",
    "\n",
    "class B(A):\n",
    "    def __init__(self):\n",
    "        self.a=11\n",
    "        self.b=22\n",
    "    def fun1(self):\n",
    "        super().fun1() #this is to use function of class A even by making object of cclass B;\n",
    "        print(\"This is  fun1 from class B\")\n",
    "if __name__==\"__main__\":\n",
    "    obj=B()\n",
    "    print(obj.a)\n",
    "    print(obj.b)\n",
    "    obj.fun1()\n",
    "    "
   ]
  },
  {
   "cell_type": "markdown",
   "id": "c3ade375-3ae9-48a9-b6a8-054fbf518c24",
   "metadata": {},
   "source": [
    "***Run***\n"
   ]
  }
 ],
 "metadata": {
  "kernelspec": {
   "display_name": "Python 3 (ipykernel)",
   "language": "python",
   "name": "python3"
  },
  "language_info": {
   "codemirror_mode": {
    "name": "ipython",
    "version": 3
   },
   "file_extension": ".py",
   "mimetype": "text/x-python",
   "name": "python",
   "nbconvert_exporter": "python",
   "pygments_lexer": "ipython3",
   "version": "3.12.1"
  }
 },
 "nbformat": 4,
 "nbformat_minor": 5
}
