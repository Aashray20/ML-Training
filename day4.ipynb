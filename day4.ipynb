{
 "cells": [
  {
   "cell_type": "code",
   "execution_count": 1,
   "id": "75544887-1cb5-49b6-9e4b-fb76cb78eea6",
   "metadata": {},
   "outputs": [],
   "source": [
    "import numpy as np\n"
   ]
  },
  {
   "cell_type": "code",
   "execution_count": 2,
   "id": "e956b5ae-1e4e-4fa9-a60a-cf5f9589c21a",
   "metadata": {},
   "outputs": [],
   "source": [
    "scores=np.array([[85,90,78],\n",
    "                 [92,88,95],\n",
    "                 [76,95,85],\n",
    "                 [90,85,92],\n",
    "                 [88,76,89]])\n"
   ]
  },
  {
   "cell_type": "code",
   "execution_count": 4,
   "id": "afd3b117-e08f-44f7-9a39-48dee007238f",
   "metadata": {},
   "outputs": [
    {
     "data": {
      "text/plain": [
       "array([[85, 90, 78],\n",
       "       [92, 88, 95],\n",
       "       [76, 95, 85],\n",
       "       [90, 85, 92],\n",
       "       [88, 76, 89]])"
      ]
     },
     "execution_count": 4,
     "metadata": {},
     "output_type": "execute_result"
    }
   ],
   "source": [
    "scores"
   ]
  },
  {
   "cell_type": "code",
   "execution_count": 5,
   "id": "ae923c26-2ff0-4374-85e1-57983d344418",
   "metadata": {},
   "outputs": [
    {
     "data": {
      "text/plain": [
       "array([84.33333333, 91.66666667, 85.33333333, 89.        , 84.33333333])"
      ]
     },
     "execution_count": 5,
     "metadata": {},
     "output_type": "execute_result"
    }
   ],
   "source": [
    "np.mean(scores,axis=1)"
   ]
  },
  {
   "cell_type": "code",
   "execution_count": 29,
   "id": "954d3814-69ce-4954-96a4-c4111c0be86b",
   "metadata": {},
   "outputs": [
    {
     "data": {
      "text/plain": [
       "array([85., 92., 85., 90., 88.])"
      ]
     },
     "execution_count": 29,
     "metadata": {},
     "output_type": "execute_result"
    }
   ],
   "source": [
    "np.median(scores,axis=1)"
   ]
  },
  {
   "cell_type": "code",
   "execution_count": 30,
   "id": "0f5dad79-1606-49ea-924b-33de90e21ee5",
   "metadata": {},
   "outputs": [
    {
     "data": {
      "text/plain": [
       "array([253, 275, 256, 267, 253])"
      ]
     },
     "execution_count": 30,
     "metadata": {},
     "output_type": "execute_result"
    }
   ],
   "source": [
    "i=np.sum(scores,axis=1)\n",
    "i"
   ]
  },
  {
   "cell_type": "code",
   "execution_count": 31,
   "id": "5a564f3d-703b-4d71-8d60-27334cbef295",
   "metadata": {},
   "outputs": [
    {
     "data": {
      "text/plain": [
       "np.int64(275)"
      ]
     },
     "execution_count": 31,
     "metadata": {},
     "output_type": "execute_result"
    }
   ],
   "source": [
    "np.max(i)"
   ]
  },
  {
   "cell_type": "code",
   "execution_count": 32,
   "id": "86bbf092-0124-45f8-98ab-f2e29fd3e6a4",
   "metadata": {},
   "outputs": [
    {
     "data": {
      "text/plain": [
       "array([78, 88, 76, 85, 76])"
      ]
     },
     "execution_count": 32,
     "metadata": {},
     "output_type": "execute_result"
    }
   ],
   "source": [
    "np.min(scores,axis=1)"
   ]
  },
  {
   "cell_type": "code",
   "execution_count": 33,
   "id": "9a6f86a9-383f-4dab-a96b-398be07612a8",
   "metadata": {},
   "outputs": [
    {
     "data": {
      "text/plain": [
       "array([90, 95, 95, 92, 89])"
      ]
     },
     "execution_count": 33,
     "metadata": {},
     "output_type": "execute_result"
    }
   ],
   "source": [
    "np.max(scores,axis=1)"
   ]
  },
  {
   "cell_type": "code",
   "execution_count": 34,
   "id": "d45fb04a-4057-4f00-b1fa-6c5cedb17f5f",
   "metadata": {},
   "outputs": [
    {
     "data": {
      "text/plain": [
       "array([[78, 85, 90],\n",
       "       [88, 92, 95],\n",
       "       [76, 85, 95],\n",
       "       [85, 90, 92],\n",
       "       [76, 88, 89]])"
      ]
     },
     "execution_count": 34,
     "metadata": {},
     "output_type": "execute_result"
    }
   ],
   "source": [
    "np.sort(scores)"
   ]
  },
  {
   "cell_type": "markdown",
   "id": "f1354f84-dcb5-46a8-97fd-5ce7dea06694",
   "metadata": {},
   "source": [
    "# Reshape the size\n"
   ]
  },
  {
   "cell_type": "code",
   "execution_count": 35,
   "id": "771e3a9b-4d17-4ffb-a29c-30d28dd5aa7f",
   "metadata": {},
   "outputs": [
    {
     "data": {
      "text/plain": [
       "array([[85, 90, 78, 92, 88],\n",
       "       [95, 76, 95, 85, 90],\n",
       "       [85, 92, 88, 76, 89]])"
      ]
     },
     "execution_count": 35,
     "metadata": {},
     "output_type": "execute_result"
    }
   ],
   "source": [
    "np.reshape(scores,(3,5))"
   ]
  },
  {
   "cell_type": "code",
   "execution_count": 38,
   "id": "c6cfa16a-bdb6-4507-abb0-d3dba8a2e95f",
   "metadata": {},
   "outputs": [],
   "source": [
    "index = np.argmax(i)"
   ]
  },
  {
   "cell_type": "code",
   "execution_count": 39,
   "id": "a3f2a6b3-c1a7-4acb-8764-061387982154",
   "metadata": {},
   "outputs": [
    {
     "data": {
      "text/plain": [
       "np.int64(1)"
      ]
     },
     "execution_count": 39,
     "metadata": {},
     "output_type": "execute_result"
    }
   ],
   "source": [
    "index"
   ]
  },
  {
   "cell_type": "code",
   "execution_count": 40,
   "id": "2801018d-90fb-4928-8ca3-8362559fec19",
   "metadata": {},
   "outputs": [
    {
     "data": {
      "text/plain": [
       "array([92, 88, 95])"
      ]
     },
     "execution_count": 40,
     "metadata": {},
     "output_type": "execute_result"
    }
   ],
   "source": [
    "scores[index]"
   ]
  },
  {
   "cell_type": "markdown",
   "id": "b7629c50-0827-415f-8bee-ebd49a199ae5",
   "metadata": {},
   "source": [
    "**To Sort array in Descending order**"
   ]
  },
  {
   "cell_type": "code",
   "execution_count": 49,
   "id": "24a046f4-3d32-4d2a-90d8-de22a0f1a884",
   "metadata": {},
   "outputs": [
    {
     "data": {
      "text/plain": [
       "array([[92, 95, 95],\n",
       "       [90, 90, 92],\n",
       "       [88, 88, 89],\n",
       "       [85, 85, 85],\n",
       "       [76, 76, 78]])"
      ]
     },
     "execution_count": 49,
     "metadata": {},
     "output_type": "execute_result"
    }
   ],
   "source": [
    "np.sort(scores,axis=0)[::-1]\n"
   ]
  },
  {
   "cell_type": "code",
   "execution_count": null,
   "id": "d9c96b2f-1d83-4904-a36a-828a7cbf6530",
   "metadata": {},
   "outputs": [],
   "source": []
  }
 ],
 "metadata": {
  "kernelspec": {
   "display_name": "Python 3 (ipykernel)",
   "language": "python",
   "name": "python3"
  },
  "language_info": {
   "codemirror_mode": {
    "name": "ipython",
    "version": 3
   },
   "file_extension": ".py",
   "mimetype": "text/x-python",
   "name": "python",
   "nbconvert_exporter": "python",
   "pygments_lexer": "ipython3",
   "version": "3.12.1"
  }
 },
 "nbformat": 4,
 "nbformat_minor": 5
}
