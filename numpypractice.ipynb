{
 "cells": [
  {
   "cell_type": "code",
   "execution_count": 3,
   "id": "14dd79d8-f641-45f1-9917-254203559a15",
   "metadata": {},
   "outputs": [],
   "source": [
    "import numpy as np"
   ]
  },
  {
   "cell_type": "code",
   "execution_count": 4,
   "id": "d7b271e5-e0b7-4ecc-9945-3b4d2dfe18c7",
   "metadata": {},
   "outputs": [
    {
     "name": "stdout",
     "output_type": "stream",
     "text": [
      "int64\n"
     ]
    }
   ],
   "source": [
    "arr=np.array([1,2,3,4,5])\n",
    "arr\n",
    "print(arr.dtype)\n"
   ]
  },
  {
   "cell_type": "markdown",
   "id": "9ca4ebba-a4f0-46db-889a-cbbca266dedc",
   "metadata": {
    "jp-MarkdownHeadingCollapsed": true
   },
   "source": [
    "arr2= np.array"
   ]
  },
  {
   "cell_type": "code",
   "execution_count": 5,
   "id": "d491182e-3a97-4587-82ec-75e9e187c3bf",
   "metadata": {},
   "outputs": [],
   "source": [
    "arr2= np.array([1,2,3,4,5],dtype=np.int16)"
   ]
  },
  {
   "cell_type": "code",
   "execution_count": 6,
   "id": "48bc82e2-1388-46e7-a90e-e75ffc3e014a",
   "metadata": {},
   "outputs": [
    {
     "data": {
      "text/plain": [
       "array([1., 1., 1., 1., 1.])"
      ]
     },
     "execution_count": 6,
     "metadata": {},
     "output_type": "execute_result"
    }
   ],
   "source": [
    "z=np.ones(5)\n",
    "z\n"
   ]
  },
  {
   "cell_type": "code",
   "execution_count": 7,
   "id": "c22ccfb8-fee5-4017-94c2-1898e62eaa80",
   "metadata": {},
   "outputs": [
    {
     "data": {
      "text/plain": [
       "array([0, 1, 2, 3, 4, 5, 6, 7, 8, 9])"
      ]
     },
     "execution_count": 7,
     "metadata": {},
     "output_type": "execute_result"
    }
   ],
   "source": [
    "ar=np.arange(0,10,1)\n",
    "ar"
   ]
  },
  {
   "cell_type": "code",
   "execution_count": 8,
   "id": "7fa507e6-e71a-460a-93e4-3afb39379b3e",
   "metadata": {},
   "outputs": [
    {
     "data": {
      "text/plain": [
       "array([0.04027226, 0.19409668, 0.08558978, 0.88919891, 0.87599449])"
      ]
     },
     "execution_count": 8,
     "metadata": {},
     "output_type": "execute_result"
    }
   ],
   "source": [
    "#random number using numpy\n",
    "ran=np.random.rand(5)#it shows random value betweeb 0 and 1\n",
    "ran"
   ]
  },
  {
   "cell_type": "code",
   "execution_count": 9,
   "id": "d8760eb5-688e-4db6-be14-e70b2be07af5",
   "metadata": {},
   "outputs": [
    {
     "data": {
      "text/plain": [
       "array([  0.        ,  11.11111111,  22.22222222,  33.33333333,\n",
       "        44.44444444,  55.55555556,  66.66666667,  77.77777778,\n",
       "        88.88888889, 100.        ])"
      ]
     },
     "execution_count": 9,
     "metadata": {},
     "output_type": "execute_result"
    }
   ],
   "source": [
    "#to create equal gaps using numpy\n",
    "ln=np.linspace(0,100,10)\n",
    "ln"
   ]
  },
  {
   "cell_type": "code",
   "execution_count": 10,
   "id": "ab34efc9-f0cb-4daa-a47c-53ccf1d22d35",
   "metadata": {},
   "outputs": [
    {
     "name": "stdout",
     "output_type": "stream",
     "text": [
      "[0, 5, 6, 20, 96]\n"
     ]
    }
   ],
   "source": [
    "arr=[20,6,96,5,0]\n",
    "sorting=arr.sort()\n",
    "print(arr)"
   ]
  },
  {
   "cell_type": "markdown",
   "id": "88bf9ae2-858a-4f5f-aedb-3e9b9b824853",
   "metadata": {},
   "source": [
    "# 2D ARRAY"
   ]
  },
  {
   "cell_type": "code",
   "execution_count": 11,
   "id": "d1d7ef4e-4f2a-4525-981e-a22b83dee6a5",
   "metadata": {},
   "outputs": [
    {
     "data": {
      "text/plain": [
       "array([[1, 2, 3],\n",
       "       [4, 5, 6],\n",
       "       [7, 8, 9]])"
      ]
     },
     "execution_count": 11,
     "metadata": {},
     "output_type": "execute_result"
    }
   ],
   "source": [
    "ar2=np.array([[1,2,3],[4,5,6],[7,8,9]])\n",
    "ar2"
   ]
  },
  {
   "cell_type": "markdown",
   "id": "b31a6701-387f-4bea-9251-e16b6193b347",
   "metadata": {},
   "source": [
    "# 2d Arrays using Zeros"
   ]
  },
  {
   "cell_type": "code",
   "execution_count": 12,
   "id": "89336633-cb6a-4db1-815d-ca04113a45ee",
   "metadata": {},
   "outputs": [
    {
     "data": {
      "text/plain": [
       "array([[0, 0, 0, 0],\n",
       "       [0, 0, 0, 0],\n",
       "       [0, 0, 0, 0],\n",
       "       [0, 0, 0, 0]], dtype=int32)"
      ]
     },
     "execution_count": 12,
     "metadata": {},
     "output_type": "execute_result"
    }
   ],
   "source": [
    "z=np.zeros((4,4), dtype=np.int32)\n",
    "z"
   ]
  },
  {
   "cell_type": "code",
   "execution_count": 13,
   "id": "73c0d728-08e1-4cd1-965b-f5c589e4c090",
   "metadata": {},
   "outputs": [
    {
     "data": {
      "text/plain": [
       "array([[1, 0, 0, 0, 0],\n",
       "       [0, 1, 0, 0, 0],\n",
       "       [0, 0, 1, 0, 0],\n",
       "       [0, 0, 0, 1, 0],\n",
       "       [0, 0, 0, 0, 1]])"
      ]
     },
     "execution_count": 13,
     "metadata": {},
     "output_type": "execute_result"
    }
   ],
   "source": [
    "I=np.eye(5,dtype=np.int64)\n",
    "I"
   ]
  },
  {
   "cell_type": "code",
   "execution_count": 14,
   "id": "56079434-26ff-4e57-b49d-070ae3aa31e2",
   "metadata": {},
   "outputs": [
    {
     "data": {
      "text/plain": [
       "array([[0.77154821, 0.27262953, 0.63899617, 0.08270456, 0.92541219],\n",
       "       [0.32399885, 0.24407442, 0.36087538, 0.76502873, 0.30899929],\n",
       "       [0.18109752, 0.52737952, 0.08161582, 0.67739013, 0.99975173],\n",
       "       [0.06068347, 0.77416296, 0.09598617, 0.41843778, 0.39302558]])"
      ]
     },
     "execution_count": 14,
     "metadata": {},
     "output_type": "execute_result"
    }
   ],
   "source": [
    "r1=np.random.rand(4,5)\n",
    "r1"
   ]
  },
  {
   "cell_type": "markdown",
   "id": "02cc4ee8-b25b-4d32-8f43-df9de40e25cf",
   "metadata": {},
   "source": [
    "# Identity matrix"
   ]
  },
  {
   "cell_type": "code",
   "execution_count": 15,
   "id": "08df93b4-43cd-4ed3-8f5d-d5c5a6d7985f",
   "metadata": {},
   "outputs": [
    {
     "data": {
      "text/plain": [
       "array([[1, 0, 0, 0, 0, 0],\n",
       "       [0, 1, 0, 0, 0, 0],\n",
       "       [0, 0, 1, 0, 0, 0],\n",
       "       [0, 0, 0, 1, 0, 0],\n",
       "       [0, 0, 0, 0, 1, 0],\n",
       "       [0, 0, 0, 0, 0, 1]])"
      ]
     },
     "execution_count": 15,
     "metadata": {},
     "output_type": "execute_result"
    }
   ],
   "source": [
    "arr=np.eye(6,dtype=np.int64)\n",
    "arr"
   ]
  },
  {
   "cell_type": "markdown",
   "id": "f081b456-d13c-4025-93f5-1ada1713b2ce",
   "metadata": {},
   "source": [
    "# SIZE"
   ]
  },
  {
   "cell_type": "code",
   "execution_count": 16,
   "id": "3d69c627-5c68-473b-b1a6-56a4922bf9c0",
   "metadata": {},
   "outputs": [
    {
     "name": "stdout",
     "output_type": "stream",
     "text": [
      "5\n"
     ]
    }
   ],
   "source": [
    "print(arr2.size)"
   ]
  },
  {
   "cell_type": "code",
   "execution_count": 17,
   "id": "d3b1aa41-9f6e-4684-afe9-6c966ded434c",
   "metadata": {},
   "outputs": [
    {
     "name": "stdout",
     "output_type": "stream",
     "text": [
      "9\n"
     ]
    }
   ],
   "source": [
    "print(ar2.size)"
   ]
  },
  {
   "cell_type": "markdown",
   "id": "bbebed1d-71a7-42b2-8ec1-429c3039847c",
   "metadata": {},
   "source": [
    "# SHAPE"
   ]
  },
  {
   "cell_type": "code",
   "execution_count": 18,
   "id": "523d006d-22ba-4751-be0c-4ca97c78e0f6",
   "metadata": {},
   "outputs": [
    {
     "name": "stdout",
     "output_type": "stream",
     "text": [
      "(5,)\n"
     ]
    }
   ],
   "source": [
    "print(arr2.shape)"
   ]
  },
  {
   "cell_type": "code",
   "execution_count": 19,
   "id": "0067d0bc-c1a5-463c-bd40-dfb2a4bdc3ee",
   "metadata": {},
   "outputs": [
    {
     "name": "stdout",
     "output_type": "stream",
     "text": [
      "(3, 3)\n"
     ]
    }
   ],
   "source": [
    "print(ar2.shape)"
   ]
  },
  {
   "cell_type": "markdown",
   "id": "0193b28c-7de4-4871-83c9-09604b1312bc",
   "metadata": {},
   "source": [
    "# OPERATIONS IN ARRAY\n",
    "Sort\n",
    "copy\n",
    "reshape"
   ]
  },
  {
   "cell_type": "code",
   "execution_count": 20,
   "id": "e7f21b48-9823-427d-b652-db288a94e88f",
   "metadata": {},
   "outputs": [
    {
     "data": {
      "text/plain": [
       "array([[1, 2, 3],\n",
       "       [4, 5, 6],\n",
       "       [7, 8, 9]])"
      ]
     },
     "execution_count": 20,
     "metadata": {},
     "output_type": "execute_result"
    }
   ],
   "source": [
    "arr3=np.copy(ar2)\n",
    "arr3"
   ]
  },
  {
   "cell_type": "code",
   "execution_count": 21,
   "id": "052de661-5b5e-42b5-b55a-3e0706501af8",
   "metadata": {},
   "outputs": [],
   "source": [
    "arr3[2,2]=10\n",
    "arr3[0,2]=9\n"
   ]
  },
  {
   "cell_type": "code",
   "execution_count": 22,
   "id": "4051303b-6e50-43e0-8667-f65d8a6887f1",
   "metadata": {},
   "outputs": [
    {
     "data": {
      "text/plain": [
       "np.int64(52)"
      ]
     },
     "execution_count": 22,
     "metadata": {},
     "output_type": "execute_result"
    }
   ],
   "source": [
    "arr3.sum()\n"
   ]
  },
  {
   "cell_type": "code",
   "execution_count": 23,
   "id": "25bdc11e-e342-488b-b90a-424aa6147115",
   "metadata": {},
   "outputs": [
    {
     "data": {
      "text/plain": [
       "[0, 1, 2, 3, 4, 5, 6, 7, 8, 9]"
      ]
     },
     "execution_count": 23,
     "metadata": {},
     "output_type": "execute_result"
    }
   ],
   "source": [
    "ar=[0,1,2,3,4,5,6,7,8,9]\n",
    "ar"
   ]
  },
  {
   "cell_type": "code",
   "execution_count": 24,
   "id": "ad37fac4-0d26-4983-9409-85d2ed998b7e",
   "metadata": {},
   "outputs": [],
   "source": [
    "ar=np.append(ar,10)"
   ]
  },
  {
   "cell_type": "code",
   "execution_count": 25,
   "id": "f4656bb1-00dc-4021-b69d-91aa4619cd42",
   "metadata": {},
   "outputs": [
    {
     "data": {
      "text/plain": [
       "array([ 0,  1,  2,  3,  4,  5,  6,  7,  8,  9, 10])"
      ]
     },
     "execution_count": 25,
     "metadata": {},
     "output_type": "execute_result"
    }
   ],
   "source": [
    "ar"
   ]
  },
  {
   "cell_type": "code",
   "execution_count": 26,
   "id": "7c645302-250b-4ae6-a1d6-bd70d7f4fa2b",
   "metadata": {},
   "outputs": [],
   "source": [
    "ar=np.insert(ar,6,6)"
   ]
  },
  {
   "cell_type": "code",
   "execution_count": 27,
   "id": "cbe24416-223c-4e0b-8e5c-c7f0ab0a962d",
   "metadata": {},
   "outputs": [
    {
     "data": {
      "text/plain": [
       "array([ 0,  1,  2,  3,  4,  5,  6,  6,  7,  8,  9, 10])"
      ]
     },
     "execution_count": 27,
     "metadata": {},
     "output_type": "execute_result"
    }
   ],
   "source": [
    "ar"
   ]
  },
  {
   "cell_type": "code",
   "execution_count": 28,
   "id": "a1809277-f228-4268-813b-cc8c3fad854e",
   "metadata": {},
   "outputs": [
    {
     "data": {
      "text/plain": [
       "array([[1, 2, 3],\n",
       "       [4, 5, 6],\n",
       "       [7, 8, 9]])"
      ]
     },
     "execution_count": 28,
     "metadata": {},
     "output_type": "execute_result"
    }
   ],
   "source": [
    "ar2"
   ]
  },
  {
   "cell_type": "code",
   "execution_count": 30,
   "id": "db108a29-73f7-4eeb-b6d9-51dfd295cf96",
   "metadata": {},
   "outputs": [
    {
     "data": {
      "text/plain": [
       "array([[ 1,  2,  9],\n",
       "       [ 4,  5,  6],\n",
       "       [ 7,  8, 10]])"
      ]
     },
     "execution_count": 30,
     "metadata": {},
     "output_type": "execute_result"
    }
   ],
   "source": [
    "arr3"
   ]
  },
  {
   "cell_type": "code",
   "execution_count": 34,
   "id": "a2ca0c8e-7676-49b3-bfb6-200314a77771",
   "metadata": {},
   "outputs": [
    {
     "data": {
      "text/plain": [
       "array([[ 1,  2,  3,  1,  2,  9],\n",
       "       [ 4,  5,  6,  4,  5,  6],\n",
       "       [ 7,  8,  9,  7,  8, 10]])"
      ]
     },
     "execution_count": 34,
     "metadata": {},
     "output_type": "execute_result"
    }
   ],
   "source": [
    "ar4=np.concatenate((ar2,arr3),axis=1)\n",
    "ar4"
   ]
  },
  {
   "cell_type": "markdown",
   "id": "4d0d6000-f7b4-49ff-93c5-87f0eaeaef5d",
   "metadata": {},
   "source": [
    "###### "
   ]
  },
  {
   "cell_type": "code",
   "execution_count": 40,
   "id": "091e6f74-75ad-45c2-990d-d5ebf2068a79",
   "metadata": {},
   "outputs": [
    {
     "data": {
      "text/plain": [
       "[array([[1, 2, 3],\n",
       "        [4, 5, 6],\n",
       "        [7, 8, 9]]),\n",
       " array([[ 1,  2,  9],\n",
       "        [ 4,  5,  6],\n",
       "        [ 7,  8, 10]])]"
      ]
     },
     "execution_count": 40,
     "metadata": {},
     "output_type": "execute_result"
    }
   ],
   "source": [
    "ar6=np.split(ar4,2,axis=1)\n",
    "ar6"
   ]
  },
  {
   "cell_type": "code",
   "execution_count": 42,
   "id": "fad8dc2c-b894-4c12-8286-432d676ec719",
   "metadata": {},
   "outputs": [
    {
     "data": {
      "text/plain": [
       "array([[ 1,  2,  3,  1,  2,  9],\n",
       "       [ 4,  5,  6,  4,  5,  6],\n",
       "       [ 7,  8,  9,  7,  8, 10]])"
      ]
     },
     "execution_count": 42,
     "metadata": {},
     "output_type": "execute_result"
    }
   ],
   "source": [
    "ar4"
   ]
  },
  {
   "cell_type": "markdown",
   "id": "dfe80fff-d2fe-4d9b-be33-8790eb9377e9",
   "metadata": {},
   "source": [
    "# Mathematical Operations"
   ]
  },
  {
   "cell_type": "code",
   "execution_count": 43,
   "id": "1f7998b7-40b9-43b8-a923-dfbea68e686e",
   "metadata": {},
   "outputs": [
    {
     "data": {
      "text/plain": [
       "array([[ 3,  4,  5,  3,  4, 11],\n",
       "       [ 6,  7,  8,  6,  7,  8],\n",
       "       [ 9, 10, 11,  9, 10, 12]])"
      ]
     },
     "execution_count": 43,
     "metadata": {},
     "output_type": "execute_result"
    }
   ],
   "source": [
    "np.add(ar4,2)#this will add 1 to eacg element"
   ]
  },
  {
   "cell_type": "code",
   "execution_count": 45,
   "id": "155265e6-d7fd-47fb-885b-b8dfdcd30a0d",
   "metadata": {},
   "outputs": [
    {
     "data": {
      "text/plain": [
       "array([[-1,  0,  1, -1,  0,  7],\n",
       "       [ 2,  3,  4,  2,  3,  4],\n",
       "       [ 5,  6,  7,  5,  6,  8]])"
      ]
     },
     "execution_count": 45,
     "metadata": {},
     "output_type": "execute_result"
    }
   ],
   "source": [
    "np.subtract(ar4,2)"
   ]
  },
  {
   "cell_type": "code",
   "execution_count": 46,
   "id": "a956c21f-198d-4492-930d-52425608a443",
   "metadata": {},
   "outputs": [
    {
     "data": {
      "text/plain": [
       "array([[ 2,  4,  6,  2,  4, 18],\n",
       "       [ 8, 10, 12,  8, 10, 12],\n",
       "       [14, 16, 18, 14, 16, 20]])"
      ]
     },
     "execution_count": 46,
     "metadata": {},
     "output_type": "execute_result"
    }
   ],
   "source": [
    "np.multiply(ar4,2)"
   ]
  },
  {
   "cell_type": "code",
   "execution_count": 47,
   "id": "d194fb2f-5495-4429-aee6-d1a6fc7985e3",
   "metadata": {},
   "outputs": [
    {
     "data": {
      "text/plain": [
       "array([[0.5, 1. , 1.5, 0.5, 1. , 4.5],\n",
       "       [2. , 2.5, 3. , 2. , 2.5, 3. ],\n",
       "       [3.5, 4. , 4.5, 3.5, 4. , 5. ]])"
      ]
     },
     "execution_count": 47,
     "metadata": {},
     "output_type": "execute_result"
    }
   ],
   "source": [
    "np.divide(ar4,2)"
   ]
  },
  {
   "cell_type": "code",
   "execution_count": 48,
   "id": "6305bf6f-546d-4c25-9359-95b3f5b21248",
   "metadata": {},
   "outputs": [
    {
     "data": {
      "text/plain": [
       "array([[  1,   4,   9,   1,   4,  81],\n",
       "       [ 16,  25,  36,  16,  25,  36],\n",
       "       [ 49,  64,  81,  49,  64, 100]])"
      ]
     },
     "execution_count": 48,
     "metadata": {},
     "output_type": "execute_result"
    }
   ],
   "source": [
    "np.power(ar4,2)"
   ]
  },
  {
   "cell_type": "code",
   "execution_count": 49,
   "id": "405fca6a-0c13-4ce5-abdc-412022da0327",
   "metadata": {},
   "outputs": [
    {
     "data": {
      "text/plain": [
       "array([ 5,  7,  9,  5,  7, 15])"
      ]
     },
     "execution_count": 49,
     "metadata": {},
     "output_type": "execute_result"
    }
   ],
   "source": [
    "ar7=np.add(ar4[0],ar4[1])\n",
    "ar7"
   ]
  },
  {
   "cell_type": "code",
   "execution_count": 50,
   "id": "1f0d3504-0d7a-4d87-bc93-29edea15e0a3",
   "metadata": {},
   "outputs": [
    {
     "data": {
      "text/plain": [
       "array([[ 1,  2,  3,  1,  2,  9],\n",
       "       [ 4,  5,  6,  4,  5,  6],\n",
       "       [ 7,  8,  9,  7,  8, 10]])"
      ]
     },
     "execution_count": 50,
     "metadata": {},
     "output_type": "execute_result"
    }
   ],
   "source": [
    "np.round(ar4)"
   ]
  },
  {
   "cell_type": "markdown",
   "id": "111e157f-5691-4edb-8696-2ff842286c2e",
   "metadata": {},
   "source": [
    "# Statistics"
   ]
  },
  {
   "cell_type": "code",
   "execution_count": 52,
   "id": "1fb681c3-7a4c-42f5-b61c-bad2705bcaf3",
   "metadata": {},
   "outputs": [
    {
     "data": {
      "text/plain": [
       "np.float64(5.388888888888889)"
      ]
     },
     "execution_count": 52,
     "metadata": {},
     "output_type": "execute_result"
    }
   ],
   "source": [
    "np.mean(ar4)"
   ]
  },
  {
   "cell_type": "code",
   "execution_count": 53,
   "id": "e93ff0de-ea67-4d01-ad99-7790b538bb04",
   "metadata": {},
   "outputs": [
    {
     "data": {
      "text/plain": [
       "np.float64(5.5)"
      ]
     },
     "execution_count": 53,
     "metadata": {},
     "output_type": "execute_result"
    }
   ],
   "source": [
    "np.median(ar4)"
   ]
  },
  {
   "cell_type": "code",
   "execution_count": 54,
   "id": "9085fb57-0f8b-4c54-8618-ffb41d357058",
   "metadata": {},
   "outputs": [
    {
     "data": {
      "text/plain": [
       "array([2., 5., 8.])"
      ]
     },
     "execution_count": 54,
     "metadata": {},
     "output_type": "execute_result"
    }
   ],
   "source": [
    "np.median(ar4,axis=1)"
   ]
  },
  {
   "cell_type": "code",
   "execution_count": 55,
   "id": "7c8b51c2-c1db-478c-b19c-e459c8e927f7",
   "metadata": {},
   "outputs": [
    {
     "data": {
      "text/plain": [
       "array([3.        , 5.        , 8.16666667])"
      ]
     },
     "execution_count": 55,
     "metadata": {},
     "output_type": "execute_result"
    }
   ],
   "source": [
    "np.mean(ar4,axis=1)"
   ]
  },
  {
   "cell_type": "code",
   "execution_count": 56,
   "id": "ebadb426-c06e-460a-aa9a-ad796abb48b1",
   "metadata": {},
   "outputs": [
    {
     "data": {
      "text/plain": [
       "array([ 9,  6, 10])"
      ]
     },
     "execution_count": 56,
     "metadata": {},
     "output_type": "execute_result"
    }
   ],
   "source": [
    "np.max(ar4,axis=1)"
   ]
  },
  {
   "cell_type": "code",
   "execution_count": 57,
   "id": "4b71f29c-c1e0-40a1-af3b-9e3da6d40f7b",
   "metadata": {},
   "outputs": [
    {
     "data": {
      "text/plain": [
       "array([[ 1,  2,  3,  1,  2,  9],\n",
       "       [ 4,  5,  6,  4,  5,  6],\n",
       "       [ 7,  8,  9,  7,  8, 10]])"
      ]
     },
     "execution_count": 57,
     "metadata": {},
     "output_type": "execute_result"
    }
   ],
   "source": [
    "ar4"
   ]
  },
  {
   "cell_type": "code",
   "execution_count": 67,
   "id": "bc4dc862-4d57-4ab4-8de7-6e6e619a430c",
   "metadata": {},
   "outputs": [],
   "source": [
    "ar10=np.array([2,5,3,8,180,4,1,6,90])\n"
   ]
  },
  {
   "cell_type": "code",
   "execution_count": 68,
   "id": "bcc1d235-2571-4ad7-abc7-aeaa5f930695",
   "metadata": {},
   "outputs": [
    {
     "data": {
      "text/plain": [
       "np.int64(4)"
      ]
     },
     "execution_count": 68,
     "metadata": {},
     "output_type": "execute_result"
    }
   ],
   "source": [
    "np.argmax(ar10)"
   ]
  },
  {
   "cell_type": "code",
   "execution_count": 69,
   "id": "d3655290-8020-46bc-8fc8-521b0040036b",
   "metadata": {},
   "outputs": [
    {
     "data": {
      "text/plain": [
       "np.int64(6)"
      ]
     },
     "execution_count": 69,
     "metadata": {},
     "output_type": "execute_result"
    }
   ],
   "source": [
    "np.argmin(ar10)"
   ]
  },
  {
   "cell_type": "code",
   "execution_count": 70,
   "id": "c7c99354-d92f-4876-aa8a-2cdb8c4c1b43",
   "metadata": {},
   "outputs": [
    {
     "data": {
      "text/plain": [
       "array([6, 0, 2, 5, 1, 7, 3, 8, 4])"
      ]
     },
     "execution_count": 70,
     "metadata": {},
     "output_type": "execute_result"
    }
   ],
   "source": [
    "np.argsort(ar10)"
   ]
  },
  {
   "cell_type": "code",
   "execution_count": 71,
   "id": "4e9518ae-6343-4861-8996-6780e56adf83",
   "metadata": {},
   "outputs": [
    {
     "data": {
      "text/plain": [
       "array([ 0.90929743, -0.95892427,  0.14112001,  0.98935825, -0.80115264,\n",
       "       -0.7568025 ,  0.84147098, -0.2794155 ,  0.89399666])"
      ]
     },
     "execution_count": 71,
     "metadata": {},
     "output_type": "execute_result"
    }
   ],
   "source": [
    "np.sin(ar10)"
   ]
  },
  {
   "cell_type": "code",
   "execution_count": null,
   "id": "650ab8e9-a8c8-4084-b84a-09e181344113",
   "metadata": {},
   "outputs": [],
   "source": []
  }
 ],
 "metadata": {
  "kernelspec": {
   "display_name": "Python 3 (ipykernel)",
   "language": "python",
   "name": "python3"
  },
  "language_info": {
   "codemirror_mode": {
    "name": "ipython",
    "version": 3
   },
   "file_extension": ".py",
   "mimetype": "text/x-python",
   "name": "python",
   "nbconvert_exporter": "python",
   "pygments_lexer": "ipython3",
   "version": "3.12.1"
  }
 },
 "nbformat": 4,
 "nbformat_minor": 5
}
