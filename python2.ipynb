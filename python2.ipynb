{
 "cells": [
  {
   "cell_type": "code",
   "execution_count": 1,
   "id": "f785e0a0-4085-480a-8c20-61c20e512a53",
   "metadata": {},
   "outputs": [
    {
     "name": "stdout",
     "output_type": "stream",
     "text": [
      "Hello\n"
     ]
    }
   ],
   "source": [
    "print(\"Hello\")\n"
   ]
  },
  {
   "cell_type": "code",
   "execution_count": 2,
   "id": "9b30d7d3-4fe5-45c7-b149-ea712ac2335b",
   "metadata": {},
   "outputs": [
    {
     "name": "stdout",
     "output_type": "stream",
     "text": [
      "15\n"
     ]
    }
   ],
   "source": [
    "a=6\n",
    "b=9\n",
    "print(a+b)"
   ]
  },
  {
   "cell_type": "code",
   "execution_count": 4,
   "id": "24614130-530d-4d47-b712-ba2be52e2b11",
   "metadata": {},
   "outputs": [
    {
     "name": "stdin",
     "output_type": "stream",
     "text": [
      " -12\n"
     ]
    },
    {
     "name": "stdout",
     "output_type": "stream",
     "text": [
      "Good\n"
     ]
    }
   ],
   "source": [
    "n=int(input())\n",
    "if n<0:\n",
    "    if n>(-24):\n",
    "        if n%2==0:\n",
    "            print(\"Good\")\n",
    "        else:\n",
    "            print(\"Not successfull\")"
   ]
  },
  {
   "cell_type": "code",
   "execution_count": 4,
   "id": "66bc3d95-af11-4dcc-92e9-9f6d9adbad8b",
   "metadata": {},
   "outputs": [
    {
     "name": "stdout",
     "output_type": "stream",
     "text": [
      "[1, 21, 21, 21, 3, 21]\n",
      "[2.6, 6.5, 56.2]\n",
      "[5, 5.2, 'T', True]\n",
      "<class 'list'>\n",
      "<class 'list'>\n",
      "<class 'list'>\n",
      "4\n"
     ]
    }
   ],
   "source": [
    "#list\n",
    "l1=[1,21,21,21,3,21]\n",
    "l2=[2.6,6.5,56.2]\n",
    "l3=[5,5.2,\"T\",True]\n",
    "print(l1)\n",
    "print(l2)\n",
    "print(l3)\n",
    "print(type(l1))\n",
    "print(type(l2))\n",
    "print(type(l3))\n",
    "print(l1.count(21))\n"
   ]
  },
  {
   "cell_type": "code",
   "execution_count": 9,
   "id": "c8a00c2e-bc11-4208-a2d0-c609fa6cd18e",
   "metadata": {},
   "outputs": [
    {
     "name": "stdout",
     "output_type": "stream",
     "text": [
      "[5, 6, 7, 8, 1, 2, 3, 4]\n",
      "[5, 6, 7, 8, 1, 2, 3, 4]\n"
     ]
    }
   ],
   "source": [
    "l1=[1,2,3,4]\n",
    "l2=[5,6,7,8]\n",
    "print(l2+l1)\n",
    "l2.extend(l1)\n",
    "print(l2)"
   ]
  },
  {
   "cell_type": "code",
   "execution_count": 15,
   "id": "de6d4da3-a088-4bde-aa3c-7598c92638bf",
   "metadata": {},
   "outputs": [
    {
     "name": "stdout",
     "output_type": "stream",
     "text": [
      "dict_values(['ABCD', 123, [1, 2, 3, 4]])\n",
      "dict_keys([1, 'xyz', 2])\n",
      "[1, 2, 3, 4]\n",
      "123\n"
     ]
    }
   ],
   "source": [
    "#dictionary\n",
    "#d=[key::value]\n",
    "d={1:\"ABCD\",\"xyz\":123,2:[1,2,3,4]}\n",
    "print(d.values())\n",
    "print(d.keys())\n",
    "print(d[2])\n",
    "print(d[\"xyz\"])"
   ]
  },
  {
   "cell_type": "code",
   "execution_count": null,
   "id": "1b9c564b-44b4-4b5c-8456-9596b630cf63",
   "metadata": {},
   "outputs": [],
   "source": []
  }
 ],
 "metadata": {
  "kernelspec": {
   "display_name": "Python 3 (ipykernel)",
   "language": "python",
   "name": "python3"
  },
  "language_info": {
   "codemirror_mode": {
    "name": "ipython",
    "version": 3
   },
   "file_extension": ".py",
   "mimetype": "text/x-python",
   "name": "python",
   "nbconvert_exporter": "python",
   "pygments_lexer": "ipython3",
   "version": "3.12.1"
  }
 },
 "nbformat": 4,
 "nbformat_minor": 5
}
